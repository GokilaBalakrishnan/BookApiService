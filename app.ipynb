{
 "cells": [
  {
   "cell_type": "code",
   "execution_count": null,
   "id": "1d3302f5",
   "metadata": {},
   "outputs": [],
   "source": [
    "from flask import Flask, request, jsonify\n",
    "import requests\n",
    "\n",
    "app = Flask(__name__)\n",
    "\n",
    "@app.route(\"/api/messages\", methods=[\"POST\"])\n",
    "def messages():\n",
    "    incoming_message = request.json[\"text\"]\n",
    "    \n",
    "    # Call your Azure OpenAI endpoint\n",
    "    openai_api_key = \"Afqb9cEa2IWbJugldnIBELsknbAOztPr8mnMnA31rbFevlv5VfMdJQQJ99BDACHYHv6XJ3w3AAAAACOGBuoS\"\n",
    "    openai_endpoint = \"https://ai-s2248968285899ai935042442247.openai.azure.com/\"\n",
    "\n",
    "    headers = {\"Content-Type\": \"application/json\", \"api-key\": openai_api_key}\n",
    "    body = {\n",
    "        \"messages\": [\n",
    "            {\"role\": \"system\", \"content\": \"You are a book recommendation assistant.\"},\n",
    "            {\"role\": \"user\", \"content\": f\"User said: {incoming_message}. Recommend 3 books briefly.\"}\n",
    "        ],\n",
    "        \"temperature\": 0.7,\n",
    "        \"max_tokens\": 500\n",
    "    }\n",
    "    response = requests.post(openai_endpoint, headers=headers, json=body)\n",
    "    reply = response.json()[\"choices\"][0][\"message\"][\"content\"]\n",
    "\n",
    "    return jsonify({\"text\": reply})\n",
    "\n",
    "\n",
    "@app.route(\"/\", methods=[\"GET\", \"POST\"])\n",
    "def root():\n",
    "    return jsonify({\n",
    "        \"error\": \"This is the bot endpoint. POST your JSON to /api/messages.\"\n",
    "    }), 404\n",
    "\n",
    "if __name__ == \"__main__\":\n",
    "    app.run(port=3978)\n"
   ]
  },
  {
   "cell_type": "code",
   "execution_count": null,
   "id": "207058bc",
   "metadata": {},
   "outputs": [],
   "source": []
  },
  {
   "cell_type": "code",
   "execution_count": null,
   "id": "ee216432",
   "metadata": {},
   "outputs": [],
   "source": []
  },
  {
   "cell_type": "code",
   "execution_count": null,
   "id": "d3022d02",
   "metadata": {},
   "outputs": [],
   "source": []
  },
  {
   "cell_type": "code",
   "execution_count": null,
   "id": "9d20d228",
   "metadata": {},
   "outputs": [],
   "source": []
  },
  {
   "cell_type": "code",
   "execution_count": null,
   "id": "d5f3753b",
   "metadata": {},
   "outputs": [],
   "source": []
  },
  {
   "cell_type": "code",
   "execution_count": null,
   "id": "c2592bf9",
   "metadata": {},
   "outputs": [],
   "source": []
  },
  {
   "cell_type": "code",
   "execution_count": null,
   "id": "bfb7c6c3",
   "metadata": {},
   "outputs": [],
   "source": []
  },
  {
   "cell_type": "code",
   "execution_count": null,
   "id": "64b476a3",
   "metadata": {},
   "outputs": [],
   "source": []
  },
  {
   "cell_type": "code",
   "execution_count": null,
   "id": "78a64063",
   "metadata": {},
   "outputs": [],
   "source": []
  },
  {
   "cell_type": "code",
   "execution_count": null,
   "id": "93b74bdf",
   "metadata": {},
   "outputs": [],
   "source": []
  }
 ],
 "metadata": {
  "kernelspec": {
   "display_name": "Python 3 (ipykernel)",
   "language": "python",
   "name": "python3"
  },
  "language_info": {
   "codemirror_mode": {
    "name": "ipython",
    "version": 3
   },
   "file_extension": ".py",
   "mimetype": "text/x-python",
   "name": "python",
   "nbconvert_exporter": "python",
   "pygments_lexer": "ipython3",
   "version": "3.9.13"
  }
 },
 "nbformat": 4,
 "nbformat_minor": 5
}
